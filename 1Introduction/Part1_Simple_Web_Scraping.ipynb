{
 "cells": [
  {
   "cell_type": "markdown",
   "metadata": {},
   "source": [
    "# Introduction"
   ]
  },
  {
   "cell_type": "markdown",
   "metadata": {},
   "source": [
    "Avant de commencer, parcourer le fichier README.rst"
   ]
  },
  {
   "cell_type": "markdown",
   "metadata": {},
   "source": [
    "# Requête HTTP "
   ]
  },
  {
   "cell_type": "markdown",
   "metadata": {},
   "source": [
    "Un requête HTTP est une requête basé sur le protocole TCP, elle fait partie de la couche application de la couche OSI. Elle permet d'accéder aux données mise à disposition sur une adresse IP (ou url résolue par un DNS) et un port. \n",
    "\n",
    "Les deux ports les plus utilisé dans le web sont le 80 pour les sites en HTTP et le 443 pour les sites en HTTPS. HTTPS est une variable du protocole HTTP basé sur le protocole TLS.\n",
    "\n",
    "Il existe de nombreux types de requêtes selon la convention `REST`: \n",
    "- GET\n",
    "- POST\n",
    "- PUT \n",
    "- DELETE\n",
    "- UPDATE.\n",
    "\n",
    "Dans notre cas nous allons utiliser la plupart du temps des GET et potentiellement des POST. \n",
    "- Le GET permet comme sont nom l'indique de récupérer des informations en fonction de certain paramètres. \n",
    "- Le POST nécéssite un envoie de données pour récupérer des données. Le body du post est, la plupart du temps, envoyé sous la forme d'un objet JSON.\n",
    "\n",
    "Ces requêtes encapsulent un certain nombre de paramètres qui permettent soient d'identifier une provenance et un utilisateur ou de réaliser différentes actions."
   ]
  },
  {
   "cell_type": "code",
   "execution_count": 2,
   "metadata": {},
   "outputs": [],
   "source": [
    "import requests"
   ]
  },
  {
   "cell_type": "code",
   "execution_count": 3,
   "metadata": {},
   "outputs": [
    {
     "data": {
      "text/plain": [
       "200"
      ]
     },
     "execution_count": 3,
     "metadata": {},
     "output_type": "execute_result"
    }
   ],
   "source": [
    "url = \"http://www.esiee.fr/\"\n",
    "response = requests.get(url)\n",
    "response.status_code"
   ]
  },
  {
   "cell_type": "markdown",
   "metadata": {},
   "source": [
    "Il existe deux méthodes pour récupérer le contenu de la page :\n",
    "\n",
    "- `response.text` qui permet de retourner le texte sous la forme d'une chaine de charactères.\n",
    "- `response.content` qui permet de récupérer le contenu de la page sous la forme de bytes"
   ]
  },
  {
   "cell_type": "code",
   "execution_count": 4,
   "metadata": {},
   "outputs": [
    {
     "data": {
      "text/plain": [
       "bytes"
      ]
     },
     "execution_count": 4,
     "metadata": {},
     "output_type": "execute_result"
    }
   ],
   "source": [
    "type(response.content)"
   ]
  },
  {
   "cell_type": "code",
   "execution_count": 5,
   "metadata": {},
   "outputs": [
    {
     "data": {
      "text/plain": [
       "str"
      ]
     },
     "execution_count": 5,
     "metadata": {},
     "output_type": "execute_result"
    }
   ],
   "source": [
    "type(response.text)"
   ]
  },
  {
   "cell_type": "markdown",
   "metadata": {},
   "source": [
    "Pour récupérer les 1000 premiers charactères de la page :"
   ]
  },
  {
   "cell_type": "code",
   "execution_count": 6,
   "metadata": {},
   "outputs": [
    {
     "data": {
      "text/plain": [
       "'<!DOCTYPE html>\\n<!--[if lt IE 7]>      <html class=\"no-js lt-ie9 lt-ie8 lt-ie7\"> <![endif]-->\\n<!--[if IE 7]>         <html class=\"no-js lt-ie9 lt-ie8\"> <![endif]-->\\n<!--[if IE 8]>         <html class=\"no-js lt-ie9\"> <![endif]-->\\n<!--[if IE 9]>         <html class=\"no-js ie9\"> <![endif]-->\\n<!--[if gt IE 9]><!--> <html class=\"no-js\"> <!--<![endif]-->\\n<head profile=\"http://www.w3.org/1999/xhtml/vocab\">\\n  <meta name=\"google-site-verification\" content=\"JnG7DTdhQuWTeSHlWC63CeWpb3WValiOorksYjoYOWI\" />\\n  <meta http-equiv=\"Content-Type\" content=\"text/html; charset=utf-8\" />\\n<meta name=\"Generator\" content=\"Drupal 7 (http://drupal.org)\" />\\n<meta name=\"description\" content=\"ESIEE Paris, l’école de l’innovation technologique | Grande école d’ingénieurs\\r\\nForme dans les domaines des technologies du numérique - Habilitée CTI.\" />\\n<link rel=\"shortcut icon\" href=\"https://www.esiee.fr/sites/all/themes/custom/esiee_theme/favicon.ico\" type=\"image/vnd.microsoft.icon\" />\\n  <title>ESIEE Paris, l’école de l’in'"
      ]
     },
     "execution_count": 6,
     "metadata": {},
     "output_type": "execute_result"
    }
   ],
   "source": [
    "response.text[0:1000]"
   ]
  },
  {
   "cell_type": "markdown",
   "metadata": {},
   "source": [
    "Pour récupérer les headers HTTP de la réponse :"
   ]
  },
  {
   "cell_type": "code",
   "execution_count": 7,
   "metadata": {},
   "outputs": [
    {
     "data": {
      "text/plain": [
       "{'Date': 'Wed, 05 Dec 2018 07:47:56 GMT', 'Server': 'Apache', 'Expires': 'Sun, 19 Nov 1978 05:00:00 GMT', 'Cache-Control': 'no-cache, must-revalidate', 'X-Content-Type-Options': 'nosniff', 'Content-Language': 'fr', 'X-Frame-Options': 'SAMEORIGIN', 'X-Generator': 'Drupal 7 (http://drupal.org)', 'Vary': 'Accept-Encoding', 'Content-Encoding': 'gzip', 'X-Robots-Tag': 'index,follow,noarchive', 'X-XSS-Protection': '1; mode=block', 'X-Download-Options': 'noopen;', 'X-Permitted-Cross-Domain-Policies': 'none', 'Content-Length': '15917', 'Keep-Alive': 'timeout=5, max=150', 'Connection': 'Keep-Alive', 'Content-Type': 'text/html; charset=utf-8'}"
      ]
     },
     "execution_count": 7,
     "metadata": {},
     "output_type": "execute_result"
    }
   ],
   "source": [
    "response.headers"
   ]
  },
  {
   "cell_type": "markdown",
   "metadata": {},
   "source": [
    "On peut modifier les paramêtres de la requête et/ou ses headers. On peut par exemple ajouter un UserAgent et un timeout de 10 secondes:"
   ]
  },
  {
   "cell_type": "code",
   "execution_count": 8,
   "metadata": {},
   "outputs": [
    {
     "data": {
      "text/plain": [
       "b'<!DOCTYPE html>\\n<!--[if lt IE 7]>      <html class=\"no-js lt-ie9 lt-ie8 lt-ie7\"> <![endif]-->\\n<!--[if IE 7]>         <html class=\"no-js lt-ie9 lt-ie8\"> <![endif]-->\\n<!--[if IE 8]>         <html class=\"no-js lt-ie9\"> <![endif]-->\\n<!--[if IE 9]>         <html class=\"no-js ie9\"> <![endif]-->\\n<!--[if gt IE 9]><!--> <html class=\"no-js\"> <!--<![endif]-->\\n<head profile=\"http://www.w3.org/1999/xhtml/vocab\">\\n  <meta name=\"google-site-verification\" content=\"JnG7DTdhQuWTeSHlWC63CeWpb3WValiOorksYjoYOWI\" />\\n  <meta http-equiv=\"Content-Type\" content=\"text/html; charset=utf-8\" />\\n<meta name=\"Generator\" content=\"Drupal 7 (http://drupal.org)\" />\\n<meta name=\"description\" content=\"ESIEE Paris, l\\xe2\\x80\\x99\\xc3\\xa9cole de l\\xe2\\x80\\x99innovation technologique | Grande \\xc3\\xa9cole d\\xe2\\x80\\x99ing\\xc3\\xa9nieurs\\r\\nForme dans les domaines des technologies du num\\xc3\\xa9rique - Habilit\\xc3\\xa9e CTI.\" />\\n<link rel=\"shortcut icon\" href=\"https://www.esiee.fr/sites/all/themes/custom/esiee_theme/favicon.ico\" type=\"image/vnd.microsoft.icon\" />\\n  <title>ESIEE Paris, l\\xe2\\x80\\x99'"
      ]
     },
     "execution_count": 8,
     "metadata": {},
     "output_type": "execute_result"
    }
   ],
   "source": [
    "headers = {'User-Agent': 'Mozilla/5.0 (Macintosh; Intel Mac OS X 10_10_1) AppleWebKit/537.36 (KHTML, like Gecko) Chrome/39.0.2171.95 Safari/537.36'}\n",
    "response = requests.get(url, headers=headers, timeout = 10)\n",
    "response.content[0:1000]"
   ]
  },
  {
   "cell_type": "markdown",
   "metadata": {},
   "source": [
    "## Exercice"
   ]
  },
  {
   "cell_type": "markdown",
   "metadata": {},
   "source": [
    "## Exercice 1\n",
    "\n",
    "- Créer une classe Python permettant de faire des requêtes HTTP.\n",
    "- Cette classe doit utiliser toujours le même UserAgent.\n",
    "- Le TimeOut sera spécifié à chaque appelle avec une valeur par défaut.\n",
    "- Un mécanisme de retry sera mis en place de façon recursive.\n",
    "\n",
    "## Exercice 2\n",
    "\n",
    "- Faire une fonction permettant de supprimer tous les espaces supperflus d'une string\n",
    "- Faire une fonction qui prend une string html et renvois une string intelligible (enlever les caractères spéciaux,\n",
    "- Récupérer le domaine en fonction d'un url"
   ]
  },
  {
   "cell_type": "code",
   "execution_count": 34,
   "metadata": {},
   "outputs": [],
   "source": [
    "# Exercice 1\n",
    "class HttpReq:\n",
    "    def __init__(self):\n",
    "        self.user_agent = {'User-Agent':'Chrome/39.0.2171.95'}\n",
    "        self.timeout = 10\n",
    "        \n",
    "    def req(self, url):\n",
    "        cpt = 2\n",
    "        while cpt!=0:\n",
    "            response = requests.get(url,headers=self.user_agent,timeout=self.timeout)\n",
    "            if  response.status_code >300 or response.status_code <200:\n",
    "                cpt-=1\n",
    "            else :\n",
    "                cpt = 0\n",
    "        print(response.content[0:500])\n",
    "        \n",
    "            \n",
    "        \n"
   ]
  },
  {
   "cell_type": "code",
   "execution_count": 35,
   "metadata": {},
   "outputs": [
    {
     "name": "stdout",
     "output_type": "stream",
     "text": [
      "b'<!DOCTYPE html>\\n<html lang=\"fr\">\\n<head>\\n<title>JEUXVIDEO.COM - La R\\xc3\\xa9f\\xc3\\xa9rence des Jeux Vid\\xc3\\xa9o sur PC et Consoles !</title>\\n<meta charset=\"utf-8\">\\n<meta name=\"viewport\" id=\"meta-viewport\" content=\"width=device-width, initial-scale=1.0, maximum-scale=1.0, minimum-scale=1.0, user-scalable=no\">\\n<meta http-equiv=\"X-UA-Compatible\" content=\"IE=edge\">\\n<meta content=\\'#004365\\' name=\\'theme-color\\' />\\n    <meta name=\"keywords\" content=\"\" />\\n    <meta name=\"description\" content=\"Jeuxvideo.com est le premier s'\n"
     ]
    }
   ],
   "source": [
    "#test exercice 1\n",
    "test = HttpReq()\n",
    "test.req(\"http://www.jeuxvideo.com/\")"
   ]
  },
  {
   "cell_type": "code",
   "execution_count": 49,
   "metadata": {},
   "outputs": [],
   "source": [
    "#Exercice 2\n",
    "import re\n",
    "def DelSpace(string):\n",
    "    return \"\".join(string.split())\n",
    "\n",
    "def Intel(string):\n",
    "    return re.sub('[\\W_]+',\"\",string)\n",
    "        \n",
    "    "
   ]
  },
  {
   "cell_type": "code",
   "execution_count": 50,
   "metadata": {},
   "outputs": [
    {
     "data": {
      "text/plain": [
       "'Tuasréussi'"
      ]
     },
     "execution_count": 50,
     "metadata": {},
     "output_type": "execute_result"
    }
   ],
   "source": [
    "#test exercice 2\n",
    "Intel(DelSpace(\"Tu as réussi !\"))"
   ]
  },
  {
   "cell_type": "markdown",
   "metadata": {},
   "source": [
    "# Exploitation du HTML  "
   ]
  },
  {
   "cell_type": "markdown",
   "metadata": {},
   "source": [
    "Ici, il faut récupérer le code HTML d'un site web à partir d'une requête. Lorsque vous avez récupéré le texte d'un site il faut le parser. Pour cela, on utilise BeautifulSoup qui permet de transformer la structure HTML en objet Python. Cela permet de récupérer efficacement les données qui nous intéresse.\n",
    "\n",
    "Pour les webmasters, le blocage le plus souvent mis en place et un blocage sur le User-Agent. Le User-Agent est un paramètre intégré dans la requête HTTP réalisé par le Navigateur pour envoyer au front des informations basiques :\n",
    "\n",
    "- la version du Navigateur,\n",
    "- la version de l'OS\n",
    "- Le type de gestionnaire graphique (Gecko)\n",
    "- le type de device utilisé"
   ]
  },
  {
   "cell_type": "markdown",
   "metadata": {},
   "source": [
    "Exemple de User Agent :  \n",
    "\n",
    "`Mozilla/5.0 (Windows NT 6.1; Win64; x64; rv:47.0) Gecko/20100101 Firefox/47.0`"
   ]
  },
  {
   "cell_type": "markdown",
   "metadata": {},
   "source": [
    "Commençons à utiliser `BeautifulSoup`, pour l'installer : "
   ]
  },
  {
   "cell_type": "code",
   "execution_count": 51,
   "metadata": {},
   "outputs": [
    {
     "name": "stdout",
     "output_type": "stream",
     "text": [
      "Collecting bs4\n",
      "  Downloading https://files.pythonhosted.org/packages/10/ed/7e8b97591f6f456174139ec089c769f89a94a1a4025fe967691de971f314/bs4-0.0.1.tar.gz\n",
      "Requirement already satisfied: beautifulsoup4 in c:\\programdata\\anaconda3\\lib\\site-packages (from bs4) (4.6.3)\n",
      "Building wheels for collected packages: bs4\n",
      "  Running setup.py bdist_wheel for bs4: started\n",
      "  Running setup.py bdist_wheel for bs4: finished with status 'done'\n",
      "  Stored in directory: C:\\Users\\Test\\AppData\\Local\\pip\\Cache\\wheels\\a0\\b0\\b2\\4f80b9456b87abedbc0bf2d52235414c3467d8889be38dd472\n",
      "Successfully built bs4\n",
      "Installing collected packages: bs4\n",
      "Successfully installed bs4-0.0.1\n"
     ]
    }
   ],
   "source": [
    "!pip install bs4"
   ]
  },
  {
   "cell_type": "code",
   "execution_count": 52,
   "metadata": {},
   "outputs": [],
   "source": [
    "import requests\n",
    "from bs4 import BeautifulSoup"
   ]
  },
  {
   "cell_type": "markdown",
   "metadata": {},
   "source": [
    "Pour transformer une requête (requests) en objet BeautifulSoup :"
   ]
  },
  {
   "cell_type": "code",
   "execution_count": 53,
   "metadata": {},
   "outputs": [],
   "source": [
    "response = requests.get(url)\n",
    "soup = BeautifulSoup(response.text, \"lxml\")"
   ]
  },
  {
   "cell_type": "markdown",
   "metadata": {},
   "source": [
    "Il se peut qu'un message d'erreur arrive à ce point là si vous n'avez pas la librarie `lxml` installée, pour se faire vous avez juste à lancer la commande suivante : "
   ]
  },
  {
   "cell_type": "code",
   "execution_count": 54,
   "metadata": {},
   "outputs": [
    {
     "name": "stdout",
     "output_type": "stream",
     "text": [
      "Requirement already satisfied: lxml in c:\\programdata\\anaconda3\\lib\\site-packages (4.2.5)\n"
     ]
    }
   ],
   "source": [
    "!pip install lxml"
   ]
  },
  {
   "cell_type": "markdown",
   "metadata": {},
   "source": [
    "Pour trouver tous les liens d'une page on récupère la balise `a` qui permet de gérer les liens en HTML  :"
   ]
  },
  {
   "cell_type": "code",
   "execution_count": 55,
   "metadata": {},
   "outputs": [
    {
     "data": {
      "text/plain": [
       "[<a href=\"#\">\n",
       " <i class=\"icon-parametres\"></i>\n",
       " </a>,\n",
       " <a href=\"https://gmail.com\" target=\"_blank\" title=\"Webmail ESIEE Paris\"><i><img alt=\"\" src=\"https://www.esiee.fr/sites/default/files/menu_icons/menu_icon_950.png\"/> </i><span>Webmail ESIEE Paris</span></a>,\n",
       " <a href=\"https://planif.esiee.fr/direct/\" target=\"_blank\" title=\"Emploi du temps général\"><i><img alt=\"\" src=\"https://www.esiee.fr/sites/default/files/menu_icons/menu_icon_1331.png\"/> </i><span>Emploi du temps général</span></a>,\n",
       " <a href=\"https://planif.esiee.fr/jsp/custom/esiee/easyMyPlanning.jsp\" target=\"_blank\" title=\"Emploi du temps individuel\"><i><img alt=\"\" src=\"https://www.esiee.fr/sites/default/files/menu_icons/menu_icon_1332.png\"/> </i><span>Emploi du temps individuel</span></a>,\n",
       " <a href=\"https://intra.esiee.fr\" target=\"_blank\" title=\"Extranet\"><i><img alt=\"\" src=\"https://www.esiee.fr/sites/default/files/menu_icons/menu_icon_951.png\"/> </i><span>Extranet</span></a>,\n",
       " <a href=\"https://esiee.blackboard.com\" target=\"_blank\" title=\"iCampus\"><i><img alt=\"\" src=\"https://www.esiee.fr/sites/default/files/menu_icons/menu_icon_1311.png\"/> </i><span>iCampus</span></a>,\n",
       " <a href=\"http://e5.onthehub.com/WebStore/Welcome.aspx?vsro=8&amp;ws=45AD823E-799B-E011-969D-0030487D8897&amp;JSEnabled=1\" target=\"_blank\" title=\"Microsoft DreamSpark\"><i><img alt=\"\" src=\"https://www.esiee.fr/sites/default/files/menu_icons/menu_icon_1696.png\"/> </i><span>Microsoft DreamSpark</span></a>,\n",
       " <a href=\"/en\">\n",
       " <i>\n",
       " <img alt=\"English\" src=\"/sites/all/themes/custom/esiee_theme/assets/images/flag-en.png\"/>\n",
       " </i>\n",
       " </a>,\n",
       " <a href=\"https://www.facebook.com/esieeparis\" target=\"_blank\">\n",
       " <i class=\"fa fa-facebook\"></i>\n",
       " </a>,\n",
       " <a href=\"https://twitter.com/ESIEEPARIS\" target=\"_blank\">\n",
       " <i class=\"fa fa-twitter\"></i>\n",
       " </a>]"
      ]
     },
     "execution_count": 55,
     "metadata": {},
     "output_type": "execute_result"
    }
   ],
   "source": [
    "soup.find_all(\"a\")[0:10]"
   ]
  },
  {
   "cell_type": "markdown",
   "metadata": {},
   "source": [
    "On peut préciser la classe HTML voulue  pour l'ensemble des `a`:\n",
    "\n",
    "```python\n",
    "soup.find_all(class_=\"<CLASS_NAME>\")[0:10]\n",
    "```\n",
    "\n",
    "Ici par exemple: "
   ]
  },
  {
   "cell_type": "code",
   "execution_count": 56,
   "metadata": {},
   "outputs": [
    {
     "data": {
      "text/plain": [
       "[<div class=\"slide slide-content\">\n",
       " <span class=\"slide-content-date inline-block\"><span class=\"date-display-single\">02.10.2018</span></span>\n",
       " <span class=\"slide-content-theme inline-block is-uppercase\">Journée portes ouvertes</span>\n",
       " <div class=\"clearfix\"></div>\n",
       " <div class=\"slide-content-img pull-left\"><!-- scald=1951:news_thumbnail --><img alt=\"Jounées portes ouvertes ESIEE Paris 2018-2019\" height=\"90\" src=\"https://www.esiee.fr/sites/default/files/styles/news/public/thumbnails/image/illustration-jpo2_0.png?itok=beyrHUYj\" title=\"Journées portes ouvertes ESIEE Paris 2018-2019\" width=\"120\"/><!-- END scald=1951 --></div>\n",
       " <span class=\"slide-content-title\"><a class=\"is-uppercase\" href=\"/fr/actualite/journee-portes-ouvertes-15-decembre-2018\">Portes Ouvertes - Samedi 15 décembre 2018 de 13h à 18h</a></span>\n",
       " <div class=\"clearfix\"></div>\n",
       " <p class=\"slide-content-desc\">Bien choisir son école, c'est aussi la rencontrer !</p> </div>,\n",
       " <div class=\"slide slide-content\">\n",
       " <span class=\"slide-content-date inline-block\"><span class=\"date-display-single\">07.12.2018</span></span>\n",
       " <span class=\"slide-content-theme inline-block is-uppercase\">Evènements</span>\n",
       " <div class=\"clearfix\"></div>\n",
       " <div class=\"slide-content-img pull-left\"><!-- scald=1877:news_thumbnail --><img alt=\"Cérémonie des diplômes ESIEE Paris 2018\" height=\"90\" src=\"https://www.esiee.fr/sites/default/files/styles/news/public/thumbnails/image/illustration-ceremonie-2.jpg?itok=wh10eMjF\" title=\"Cérémonie des diplômes ESIEE Paris 2018\" width=\"120\"/><!-- END scald=1877 --></div>\n",
       " <span class=\"slide-content-title\"><a class=\"is-uppercase\" href=\"/fr/actualite/ceremonie-remise-de-diplomes-2018\"> Cérémonie de remise des diplômes 2018</a></span>\n",
       " <div class=\"clearfix\"></div>\n",
       " <p class=\"slide-content-desc\">Près de 330 élèves issus de la formation d'ingénieur seront diplômés le 7 décembre prochain.</p> </div>,\n",
       " <div class=\"slide slide-content\">\n",
       " <span class=\"slide-content-date inline-block\"><span class=\"date-display-single\">29.11.2018</span></span>\n",
       " <span class=\"slide-content-theme inline-block is-uppercase\">Evènements</span>\n",
       " <div class=\"clearfix\"></div>\n",
       " <div class=\"slide-content-img pull-left\"><!-- scald=1224:news_thumbnail --><img alt=\"illustration-table-ronde-filles-amphi.jpg\" height=\"90\" src=\"https://www.esiee.fr/sites/default/files/styles/news/public/thumbnails/image/illustration-table-ronde-filles-amphi.jpg?itok=V_P7UehK\" title=\"Illustration table ronde - Féminisation du métier d'ingénieur\" width=\"120\"/><!-- END scald=1224 --></div>\n",
       " <span class=\"slide-content-title\"><a class=\"is-uppercase\" href=\"/fr/actualite/table-ronde-feminisation-metier-ingenieur-2018\">Table-ronde \"Et Si Ingénieur s'Ecrivait avec un E\" avec le soutien d'Elles bougent</a></span>\n",
       " <div class=\"clearfix\"></div>\n",
       " <p class=\"slide-content-desc\">Des lycéens sensibilisés à ESIEE Paris sur la féminisation des études d’ingénieures.</p> </div>,\n",
       " <div class=\"slide slide-content\">\n",
       " <span class=\"slide-content-date inline-block\"><span class=\"date-display-single\">24.11.2018</span></span>\n",
       " <span class=\"slide-content-theme inline-block is-uppercase\">Evènements</span>\n",
       " <div class=\"clearfix\"></div>\n",
       " <div class=\"slide-content-img pull-left\"><!-- scald=1986:news_thumbnail --><img alt=\"HFLan, le rendez-vous des gamers\" height=\"90\" src=\"https://www.esiee.fr/sites/default/files/styles/news/public/thumbnails/image/illustration-hflan_1.jpg?itok=8383zB_f\" title=\"HFLan, le rendez-vous des gamers\" width=\"120\"/><!-- END scald=1986 --></div>\n",
       " <span class=\"slide-content-title\"><a class=\"is-uppercase\" href=\"/fr/actualite/HFLAN-novembre-2018\">HFLAN, le rendez-vous incontournable des gamers</a></span>\n",
       " <div class=\"clearfix\"></div>\n",
       " <p class=\"slide-content-desc\">HFLAN, évènement vidéoludique, revient pour la 17e édition les 24 et 25 novembre prochain.</p> </div>,\n",
       " <div class=\"slide slide-content\">\n",
       " <span class=\"slide-content-date inline-block\"><span class=\"date-display-single\">10.11.2018</span></span>\n",
       " <span class=\"slide-content-theme inline-block is-uppercase\">Salons</span>\n",
       " <div class=\"clearfix\"></div>\n",
       " <div class=\"slide-content-img pull-left\"><!-- scald=615:news_thumbnail --><img alt=\"salon ESIEE Paris\" height=\"90\" src=\"https://www.esiee.fr/sites/default/files/styles/news/public/etudiant-polo-esiee-salon.jpg?itok=mAuNEvFf\" title=\"salon ESIEE Paris\" width=\"120\"/><!-- END scald=615 --></div>\n",
       " <span class=\"slide-content-title\"><a class=\"is-uppercase\" href=\"/fr/actualite/salon-etudiants-novembre-2018\">Salons étudiants : rendez-vous avec ESIEE Paris !</a></span>\n",
       " <div class=\"clearfix\"></div>\n",
       " <p class=\"slide-content-desc\">Venez vous renseigner sur nos formations. Trois rendez-vous avec ESIEE Paris en novembre.</p> </div>]"
      ]
     },
     "execution_count": 56,
     "metadata": {},
     "output_type": "execute_result"
    }
   ],
   "source": [
    "soup.find_all(class_=\"slide\")[0:5]"
   ]
  },
  {
   "cell_type": "markdown",
   "metadata": {},
   "source": [
    "Pour récupérer le text sans les balises HTML :"
   ]
  },
  {
   "cell_type": "code",
   "execution_count": 57,
   "metadata": {},
   "outputs": [
    {
     "data": {
      "text/plain": [
       "' \\n\\n\\n\\n\\n\\n\\nESIEE Paris, l’école de l’innovation technologique | Grande école d’ingénieurs | ESIEE Paris\\n\\n\\n\\n\\n\\n<!--/*--><![CDATA[/*><!--*/\\n#sliding-popup.sliding-popup-bottom,#sliding-popup.sliding-popup-bottom .eu-cookie-withdraw-banner,.eu-cookie-withdraw-tab{background:#e9e7e2;}#sliding-popup.sliding-popup-bottom.eu-cookie-withdraw-wrapper{background:transparent}#sliding-popup .popup-content #popup-text h1,#sliding-popup .popup-content #popup-text h2,#sliding-popup .popup-content #popup-text h3,#sliding-popup .popup-content #popup-text p,.eu-cookie-compliance-more-button,.eu-cookie-compliance-secondary-button,.eu-cookie-withdraw-tab{color:#48444e !important;}.eu-cookie-withdraw-tab{border-color:#48444e;}\\n\\n/*]]>*/-->\\n\\n\\n\\n\\n\\n\\n\\n\\n\\n \\n\\n\\n\\n\\n\\n\\n\\n\\n\\n\\n\\nLes outils ESIEE Paris Webmail ESIEE Paris Emploi du temps général Emploi du temps individuel Extranet iCampus Microsoft DreamSpark \\n\\n\\n\\n\\n\\n\\n\\n\\n\\n\\n\\n\\n\\n\\n\\n\\n\\n\\n\\n\\n\\n\\n\\n\\n\\n\\n\\n\\n\\n\\n\\n\\n\\n\\n\\n\\n\\n\\n\\n\\n\\n\\n\\n\\n\\n\\n menu\\nFormations\\n\\n\\nRETOUR menu\\nFormations ESIEE ParisIngénieur\\n\\n\\nIngénieur\\n'"
      ]
     },
     "execution_count": 57,
     "metadata": {},
     "output_type": "execute_result"
    }
   ],
   "source": [
    "soup.text[0:1000]"
   ]
  },
  {
   "cell_type": "markdown",
   "metadata": {},
   "source": [
    "## Exercice\n",
    "### Exercice 3\n",
    "\n",
    "Améliorer la classe développé précédemment.\n",
    "\n",
    "- Ajouter une méthode pour récupérer l'objet soup d'un url\n",
    "- Récupérer une liste de User Agent et effectuer une rotation aléatoire sur celui à utiliser\n",
    "- Utiliser cette classe pour parser une page HTML et récupérer : le titre, tous les H1 (si ils existes), les liens vers les images, les liens sortants vers d'autres sites, et le texte principal.\n",
    "\n",
    "Parsing d'un sitemaps pour récupérer une listes de liens avec les informations disponibles. -> Stocker dans un dictionnaire et dans un fichier JSON local."
   ]
  },
  {
   "cell_type": "markdown",
   "metadata": {},
   "source": [
    "# Exploitation des appels d'API\n"
   ]
  },
  {
   "cell_type": "markdown",
   "metadata": {},
   "source": [
    "\n",
    "Losque le front du site récupère des données sur une API géré par le back, un appel d'API est réalisé. Cet appel est recensé dans les appels réseaux. Il est alors possible de re-jouer cet appel pour récupérer à nouveau les données. Il est très facile de récupérer ces appels dans l'onglet Network de la console développeur de Chrome ou FireFox. La console vous permet de copier le code CURL pour effectuée et vous pouvez ensuite la transformer en code Python depuis le site https://curl.trillworks.com/.\n",
    "\n",
    "Souvent les APIs sont bloquées avec certain paramètres. L'API verifie que dans les headers de la requêtes HTTP ces paramètres sont présents : * un token généré à la volée avec des protocole OAuth2 (ou moins développés). * un referer provenant du site web (la source de la requête), très facile à falsifier.\n",
    "\n"
   ]
  },
  {
   "cell_type": "markdown",
   "metadata": {},
   "source": [
    "## Exercice \n",
    "### Exercice 4\n",
    "\n",
    "- Utiliser les informations développées plus haut pour récupérer les premiers résultats d'une recherche d'une requête\n",
    "sur Qwant. \n",
    "\n",
    "Tips : \n",
    "\n",
    "- Aller sur https://www.qwant.com/\n",
    "- Ouvrir les outils de développements de Chrome ou Firefox\n",
    "- Onglet Network\n",
    "- Fouiller dans les requêtes"
   ]
  },
  {
   "cell_type": "markdown",
   "metadata": {},
   "source": [
    "# Exercice Final  "
   ]
  },
  {
   "cell_type": "markdown",
   "metadata": {},
   "source": [
    "Exercice Final\n",
    "Utilisez tout ce que vous avez appris pour récupérer des articles de News avec une catégorie. Il est souvent intéressant de partir des flux RSS pour commencer :\n",
    "\n",
    "Les données doivent comprendre :\n",
    "- Le texte important propre\n",
    "- L'url\n",
    "- Le domaine\n",
    "- la catégorie\n",
    "- Le titre de l'article\n",
    "- Le titre de la page\n",
    "- (Facultatif) : les images\n",
    "\n",
    "Tips : \n",
    "\n",
    "- Taper le nom de votre média favoris + RSS (par exemple : https://www.lemonde.fr/rss/)\n",
    "- Aller dans le DOM de la page \n",
    "- Trouver les catégories et les liens vers les articles"
   ]
  },
  {
   "cell_type": "code",
   "execution_count": null,
   "metadata": {},
   "outputs": [],
   "source": []
  }
 ],
 "metadata": {
  "kernelspec": {
   "display_name": "Python 3",
   "language": "python",
   "name": "python3"
  },
  "language_info": {
   "codemirror_mode": {
    "name": "ipython",
    "version": 3
   },
   "file_extension": ".py",
   "mimetype": "text/x-python",
   "name": "python",
   "nbconvert_exporter": "python",
   "pygments_lexer": "ipython3",
   "version": "3.7.0"
  }
 },
 "nbformat": 4,
 "nbformat_minor": 2
}
